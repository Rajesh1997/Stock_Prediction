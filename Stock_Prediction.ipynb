{
 "cells": [
  {
   "cell_type": "code",
   "execution_count": 73,
   "id": "6f7881aa-1259-4016-89ae-160223173042",
   "metadata": {},
   "outputs": [],
   "source": [
    "import pandas as pd\n",
    "import numpy as np\n",
    "import matplotlib.pyplot as plt\n",
    "import seaborn as sns\n",
    "import pywt\n",
    "import warnings\n",
    "warnings.filterwarnings(action='ignore')"
   ]
  },
  {
   "cell_type": "code",
   "execution_count": 74,
   "id": "a325882b-2b1d-4178-80d9-082a4112fde6",
   "metadata": {},
   "outputs": [
    {
     "name": "stderr",
     "output_type": "stream",
     "text": [
      "[*********************100%%**********************]  1 of 1 completed\n"
     ]
    }
   ],
   "source": [
    "import yfinance as yf\n",
    "# Define the ticker symbol\n",
    "ticker_symbol = 'AMZN'  # Example: Apple Inc.\n",
    "# Set the start and end dates for the data\n",
    "# Fetch the data\n",
    "data = yf.download(ticker_symbol)"
   ]
  },
  {
   "cell_type": "code",
   "execution_count": 75,
   "id": "dab8f4dd-8b57-479a-9db0-631ad2906b8d",
   "metadata": {},
   "outputs": [],
   "source": [
    "data.reset_index(inplace= True)"
   ]
  },
  {
   "cell_type": "code",
   "execution_count": 76,
   "id": "cbe647c8-c45b-4c55-8746-4f3e63701029",
   "metadata": {},
   "outputs": [
    {
     "data": {
      "text/plain": [
       "Index(['Date', 'Open', 'High', 'Low', 'Close', 'Adj Close', 'Volume'], dtype='object')"
      ]
     },
     "execution_count": 76,
     "metadata": {},
     "output_type": "execute_result"
    }
   ],
   "source": [
    "data.columns"
   ]
  },
  {
   "cell_type": "code",
   "execution_count": 77,
   "id": "2c3f9145-68e9-4e71-9e21-1aa75b3ca42d",
   "metadata": {},
   "outputs": [],
   "source": [
    "data.drop(['Open', 'High', 'Low','Adj Close', 'Volume'], axis = 1,inplace= True)"
   ]
  },
  {
   "cell_type": "code",
   "execution_count": 100,
   "id": "9117b33c-22a9-4e54-9188-23801492aa31",
   "metadata": {},
   "outputs": [
    {
     "data": {
      "text/html": [
       "<div>\n",
       "<style scoped>\n",
       "    .dataframe tbody tr th:only-of-type {\n",
       "        vertical-align: middle;\n",
       "    }\n",
       "\n",
       "    .dataframe tbody tr th {\n",
       "        vertical-align: top;\n",
       "    }\n",
       "\n",
       "    .dataframe thead th {\n",
       "        text-align: right;\n",
       "    }\n",
       "</style>\n",
       "<table border=\"1\" class=\"dataframe\">\n",
       "  <thead>\n",
       "    <tr style=\"text-align: right;\">\n",
       "      <th></th>\n",
       "      <th>Date</th>\n",
       "      <th>Close</th>\n",
       "    </tr>\n",
       "  </thead>\n",
       "  <tbody>\n",
       "    <tr>\n",
       "      <th>0</th>\n",
       "      <td>1997-05-15</td>\n",
       "      <td>0.097917</td>\n",
       "    </tr>\n",
       "    <tr>\n",
       "      <th>1</th>\n",
       "      <td>1997-05-16</td>\n",
       "      <td>0.086458</td>\n",
       "    </tr>\n",
       "    <tr>\n",
       "      <th>2</th>\n",
       "      <td>1997-05-19</td>\n",
       "      <td>0.085417</td>\n",
       "    </tr>\n",
       "    <tr>\n",
       "      <th>3</th>\n",
       "      <td>1997-05-20</td>\n",
       "      <td>0.081771</td>\n",
       "    </tr>\n",
       "    <tr>\n",
       "      <th>4</th>\n",
       "      <td>1997-05-21</td>\n",
       "      <td>0.071354</td>\n",
       "    </tr>\n",
       "  </tbody>\n",
       "</table>\n",
       "</div>"
      ],
      "text/plain": [
       "        Date     Close\n",
       "0 1997-05-15  0.097917\n",
       "1 1997-05-16  0.086458\n",
       "2 1997-05-19  0.085417\n",
       "3 1997-05-20  0.081771\n",
       "4 1997-05-21  0.071354"
      ]
     },
     "execution_count": 100,
     "metadata": {},
     "output_type": "execute_result"
    }
   ],
   "source": [
    "data.head()"
   ]
  },
  {
   "cell_type": "code",
   "execution_count": 101,
   "id": "f1a40405-6e0c-4c3d-a984-ad3881c9d8d4",
   "metadata": {},
   "outputs": [
    {
     "data": {
      "text/html": [
       "<div>\n",
       "<style scoped>\n",
       "    .dataframe tbody tr th:only-of-type {\n",
       "        vertical-align: middle;\n",
       "    }\n",
       "\n",
       "    .dataframe tbody tr th {\n",
       "        vertical-align: top;\n",
       "    }\n",
       "\n",
       "    .dataframe thead th {\n",
       "        text-align: right;\n",
       "    }\n",
       "</style>\n",
       "<table border=\"1\" class=\"dataframe\">\n",
       "  <thead>\n",
       "    <tr style=\"text-align: right;\">\n",
       "      <th></th>\n",
       "      <th>Date</th>\n",
       "      <th>Close</th>\n",
       "    </tr>\n",
       "  </thead>\n",
       "  <tbody>\n",
       "    <tr>\n",
       "      <th>0</th>\n",
       "      <td>2010-01-04</td>\n",
       "      <td>6.6950</td>\n",
       "    </tr>\n",
       "    <tr>\n",
       "      <th>1</th>\n",
       "      <td>2010-01-05</td>\n",
       "      <td>6.7345</td>\n",
       "    </tr>\n",
       "    <tr>\n",
       "      <th>2</th>\n",
       "      <td>2010-01-06</td>\n",
       "      <td>6.6125</td>\n",
       "    </tr>\n",
       "    <tr>\n",
       "      <th>3</th>\n",
       "      <td>2010-01-07</td>\n",
       "      <td>6.5000</td>\n",
       "    </tr>\n",
       "    <tr>\n",
       "      <th>4</th>\n",
       "      <td>2010-01-08</td>\n",
       "      <td>6.6760</td>\n",
       "    </tr>\n",
       "  </tbody>\n",
       "</table>\n",
       "</div>"
      ],
      "text/plain": [
       "        Date   Close\n",
       "0 2010-01-04  6.6950\n",
       "1 2010-01-05  6.7345\n",
       "2 2010-01-06  6.6125\n",
       "3 2010-01-07  6.5000\n",
       "4 2010-01-08  6.6760"
      ]
     },
     "execution_count": 101,
     "metadata": {},
     "output_type": "execute_result"
    }
   ],
   "source": [
    "# slicing dataframe and reseting index \n",
    "df= data.iloc[3179:,:]\n",
    "df.reset_index(drop= True,inplace=True)\n",
    "df.head()"
   ]
  },
  {
   "cell_type": "code",
   "execution_count": 97,
   "id": "15833c2b-22be-4cdb-aa42-ad7849f33f41",
   "metadata": {},
   "outputs": [],
   "source": [
    "# Normalizing df['Close'] columns\n",
    "min_val = np.min(df['Close'])\n",
    "max_val = np.max(df['Close'])\n",
    "df['Close'] = (df['Close'] - min_val) / (max_val - min_val)"
   ]
  },
  {
   "cell_type": "code",
   "execution_count": 102,
   "id": "b7677809-f547-44b4-919d-c6111987ef86",
   "metadata": {},
   "outputs": [
    {
     "data": {
      "image/png": "[encoded data removed]",
      "text/plain": [
       "<Figure size 600x300 with 1 Axes>"
      ]
     },
     "metadata": {},
     "output_type": "display_data"
    }
   ],
   "source": [
    "# converting date object into Date time format\n",
    "df['Date'] = pd.to_datetime(df['Date'])\n",
    "plt.style.use('seaborn-v0_8')\n",
    "plt.figure(figsize=(6,3))\n",
    "\n",
    "#ploting df[Close] price with respect to date\n",
    "plt.plot(df['Date'], df['Close'],color = 'blue', linewidth = 1.2,label = 'Amazon Stock Price')\n",
    "plt.xlabel('Date')\n",
    "plt.ylabel(\"Stock Price USD\")\n",
    "plt.title('Amazon Stock Price')\n",
    "plt.legend(frameon=True)\n",
    "plt.tight_layout()\n",
    "plt.show()"
   ]
  },
  {
   "cell_type": "code",
   "execution_count": 103,
   "id": "32dd10fe-cee3-4d7b-a7c0-7f81e5f92f49",
   "metadata": {},
   "outputs": [
    {
     "name": "stderr",
     "output_type": "stream",
     "text": [
      "  0%|                                                                                         | 0/3559 [00:00<?, ?it/s]"
     ]
    },
    {
     "data": {
      "image/png": "[encoded data removed]",
      "text/plain": [
       "<Figure size 600x300 with 2 Axes>"
      ]
     },
     "metadata": {},
     "output_type": "display_data"
    },
    {
     "name": "stderr",
     "output_type": "stream",
     "text": [
      "  0%|                                                                                         | 0/3559 [00:00<?, ?it/s]\n"
     ]
    }
   ],
   "source": [
    "from tqdm import tqdm\n",
    "# selecting window size\n",
    "start = 0\n",
    "end = 20\n",
    "i =1\n",
    "x_ticks = np.arange(0,20,5)\n",
    "y_ticks = np.arange(1,20,2)\n",
    "for i in tqdm(range(len(df)-20)):\n",
    "    scales = np.arange(1,50)\n",
    "    #perform continuous wavelet transform\n",
    "    coeffs, freqs= pywt.cwt(df['Close'].iloc[start:end:1], scales =scales, wavelet = \"cmor1.5-1.0\")\n",
    "    start +=1\n",
    "    end +=1\n",
    "    plt.figure(figsize= (6,3))\n",
    "    # ploting scalogram\n",
    "    plt.imshow(np.abs(coeffs), extent=[0,20,1,20], cmap='magma', aspect='auto')\n",
    "    # plt.title(df['Close'].iloc[end+1])\n",
    "    plt.colorbar()\n",
    "    plt.grid(True)\n",
    "    plt.savefig(f'stock_{i+1}.jpg')\n",
    "    plt.yticks(y_ticks)\n",
    "    plt.xticks(x_ticks)\n",
    "    plt.tight_layout()\n",
    "    plt.show()\n",
    "    break"
   ]
  },
  {
   "cell_type": "code",
   "execution_count": null,
   "id": "26d91304-af30-45c7-a7e9-50d711015a6e",
   "metadata": {},
   "outputs": [],
   "source": []
  },
  {
   "cell_type": "code",
   "execution_count": 14,
   "id": "3a623a19-3b25-4e5b-9cb6-6a8034f433ea",
   "metadata": {},
   "outputs": [
    {
     "name": "stderr",
     "output_type": "stream",
     "text": [
      "[*********************100%%**********************]  1 of 1 completed"
     ]
    },
    {
     "name": "stdout",
     "output_type": "stream",
     "text": [
      "                 Open       High        Low      Close  Adj Close     Volume\n",
      "Date                                                                        \n",
      "2020-01-02  74.059998  75.150002  73.797501  75.087502  73.059418  135480400\n",
      "2020-01-03  74.287498  75.144997  74.125000  74.357498  72.349136  146322800\n",
      "2020-01-06  73.447502  74.989998  73.187500  74.949997  72.925644  118387200\n",
      "2020-01-07  74.959999  75.224998  74.370003  74.597504  72.582657  108872000\n",
      "2020-01-08  74.290001  76.110001  74.290001  75.797501  73.750252  132079200\n"
     ]
    },
    {
     "name": "stderr",
     "output_type": "stream",
     "text": [
      "\n"
     ]
    }
   ],
   "source": [
    "import yfinance as yf\n",
    "\n",
    "# Define the ticker symbol\n",
    "ticker_symbol = 'AAPL'  # Example: Apple Inc.\n",
    "\n",
    "# Set the start and end dates for the data\n",
    "start_date = '2020-01-01'\n",
    "end_date = '2022-01-01'\n",
    "\n",
    "# Fetch the data\n",
    "data = yf.download(ticker_symbol, start=start_date, end=end_date)\n",
    "\n",
    "# Print the first few rows of the dataframe\n",
    "print(data.head())\n"
   ]
  },
  {
   "cell_type": "code",
   "execution_count": null,
   "id": "bc611e41-a075-4f1b-9516-a553c12c5a1d",
   "metadata": {
    "scrolled": true
   },
   "outputs": [],
   "source": []
  },
  {
   "cell_type": "code",
   "execution_count": 43,
   "id": "99cef02f-e342-4b84-85a2-63391b2002f5",
   "metadata": {},
   "outputs": [
    {
     "data": {
      "text/html": [
       "<div>\n",
       "<style scoped>\n",
       "    .dataframe tbody tr th:only-of-type {\n",
       "        vertical-align: middle;\n",
       "    }\n",
       "\n",
       "    .dataframe tbody tr th {\n",
       "        vertical-align: top;\n",
       "    }\n",
       "\n",
       "    .dataframe thead th {\n",
       "        text-align: right;\n",
       "    }\n",
       "</style>\n",
       "<table border=\"1\" class=\"dataframe\">\n",
       "  <thead>\n",
       "    <tr style=\"text-align: right;\">\n",
       "      <th></th>\n",
       "      <th>Date</th>\n",
       "      <th>Open</th>\n",
       "      <th>High</th>\n",
       "      <th>Low</th>\n",
       "      <th>Close</th>\n",
       "      <th>Adj Close</th>\n",
       "      <th>Volume</th>\n",
       "    </tr>\n",
       "  </thead>\n",
       "  <tbody>\n",
       "    <tr>\n",
       "      <th>0</th>\n",
       "      <td>2020-01-02</td>\n",
       "      <td>93.750000</td>\n",
       "      <td>94.900497</td>\n",
       "      <td>93.207497</td>\n",
       "      <td>94.900497</td>\n",
       "      <td>94.900497</td>\n",
       "      <td>80580000</td>\n",
       "    </tr>\n",
       "    <tr>\n",
       "      <th>1</th>\n",
       "      <td>2020-01-03</td>\n",
       "      <td>93.224998</td>\n",
       "      <td>94.309998</td>\n",
       "      <td>93.224998</td>\n",
       "      <td>93.748497</td>\n",
       "      <td>93.748497</td>\n",
       "      <td>75288000</td>\n",
       "    </tr>\n",
       "    <tr>\n",
       "      <th>2</th>\n",
       "      <td>2020-01-06</td>\n",
       "      <td>93.000000</td>\n",
       "      <td>95.184502</td>\n",
       "      <td>93.000000</td>\n",
       "      <td>95.143997</td>\n",
       "      <td>95.143997</td>\n",
       "      <td>81236000</td>\n",
       "    </tr>\n",
       "    <tr>\n",
       "      <th>3</th>\n",
       "      <td>2020-01-07</td>\n",
       "      <td>95.224998</td>\n",
       "      <td>95.694504</td>\n",
       "      <td>94.601997</td>\n",
       "      <td>95.343002</td>\n",
       "      <td>95.343002</td>\n",
       "      <td>80898000</td>\n",
       "    </tr>\n",
       "    <tr>\n",
       "      <th>4</th>\n",
       "      <td>2020-01-08</td>\n",
       "      <td>94.902000</td>\n",
       "      <td>95.550003</td>\n",
       "      <td>94.321999</td>\n",
       "      <td>94.598503</td>\n",
       "      <td>94.598503</td>\n",
       "      <td>70160000</td>\n",
       "    </tr>\n",
       "    <tr>\n",
       "      <th>...</th>\n",
       "      <td>...</td>\n",
       "      <td>...</td>\n",
       "      <td>...</td>\n",
       "      <td>...</td>\n",
       "      <td>...</td>\n",
       "      <td>...</td>\n",
       "      <td>...</td>\n",
       "    </tr>\n",
       "    <tr>\n",
       "      <th>500</th>\n",
       "      <td>2021-12-27</td>\n",
       "      <td>171.037003</td>\n",
       "      <td>172.942993</td>\n",
       "      <td>169.215500</td>\n",
       "      <td>169.669495</td>\n",
       "      <td>169.669495</td>\n",
       "      <td>58688000</td>\n",
       "    </tr>\n",
       "    <tr>\n",
       "      <th>501</th>\n",
       "      <td>2021-12-28</td>\n",
       "      <td>170.182495</td>\n",
       "      <td>172.175995</td>\n",
       "      <td>169.135498</td>\n",
       "      <td>170.660995</td>\n",
       "      <td>170.660995</td>\n",
       "      <td>54638000</td>\n",
       "    </tr>\n",
       "    <tr>\n",
       "      <th>502</th>\n",
       "      <td>2021-12-29</td>\n",
       "      <td>170.839996</td>\n",
       "      <td>171.212006</td>\n",
       "      <td>168.600494</td>\n",
       "      <td>169.201004</td>\n",
       "      <td>169.201004</td>\n",
       "      <td>35754000</td>\n",
       "    </tr>\n",
       "    <tr>\n",
       "      <th>503</th>\n",
       "      <td>2021-12-30</td>\n",
       "      <td>169.699997</td>\n",
       "      <td>170.888000</td>\n",
       "      <td>168.524002</td>\n",
       "      <td>168.644501</td>\n",
       "      <td>168.644501</td>\n",
       "      <td>37584000</td>\n",
       "    </tr>\n",
       "    <tr>\n",
       "      <th>504</th>\n",
       "      <td>2021-12-31</td>\n",
       "      <td>168.955994</td>\n",
       "      <td>169.350006</td>\n",
       "      <td>166.558502</td>\n",
       "      <td>166.716995</td>\n",
       "      <td>166.716995</td>\n",
       "      <td>47830000</td>\n",
       "    </tr>\n",
       "  </tbody>\n",
       "</table>\n",
       "<p>505 rows × 7 columns</p>\n",
       "</div>"
      ],
      "text/plain": [
       "          Date        Open        High         Low       Close   Adj Close  \\\n",
       "0   2020-01-02   93.750000   94.900497   93.207497   94.900497   94.900497   \n",
       "1   2020-01-03   93.224998   94.309998   93.224998   93.748497   93.748497   \n",
       "2   2020-01-06   93.000000   95.184502   93.000000   95.143997   95.143997   \n",
       "3   2020-01-07   95.224998   95.694504   94.601997   95.343002   95.343002   \n",
       "4   2020-01-08   94.902000   95.550003   94.321999   94.598503   94.598503   \n",
       "..         ...         ...         ...         ...         ...         ...   \n",
       "500 2021-12-27  171.037003  172.942993  169.215500  169.669495  169.669495   \n",
       "501 2021-12-28  170.182495  172.175995  169.135498  170.660995  170.660995   \n",
       "502 2021-12-29  170.839996  171.212006  168.600494  169.201004  169.201004   \n",
       "503 2021-12-30  169.699997  170.888000  168.524002  168.644501  168.644501   \n",
       "504 2021-12-31  168.955994  169.350006  166.558502  166.716995  166.716995   \n",
       "\n",
       "       Volume  \n",
       "0    80580000  \n",
       "1    75288000  \n",
       "2    81236000  \n",
       "3    80898000  \n",
       "4    70160000  \n",
       "..        ...  \n",
       "500  58688000  \n",
       "501  54638000  \n",
       "502  35754000  \n",
       "503  37584000  \n",
       "504  47830000  \n",
       "\n",
       "[505 rows x 7 columns]"
      ]
     },
     "execution_count": 43,
     "metadata": {},
     "output_type": "execute_result"
    }
   ],
   "source": [
    "data.reset_index()"
   ]
  },
  {
   "cell_type": "code",
   "execution_count": null,
   "id": "f8a3a56e-6e5e-45a7-a87a-4fd165ad0247",
   "metadata": {},
   "outputs": [],
   "source": []
  },
  {
   "cell_type": "code",
   "execution_count": 56,
   "id": "1c27913a-44fa-4f23-b984-e7f26e09b73d",
   "metadata": {},
   "outputs": [
    {
     "name": "stdout",
     "output_type": "stream",
     "text": [
      "1 0\n"
     ]
    }
   ],
   "source": [
    "\n",
    "\n",
    "        \n",
    "        "
   ]
  },
  {
   "cell_type": "code",
   "execution_count": 55,
   "id": "bbdf18dd-8d9e-4cdc-9883-b1ce7d5c18cc",
   "metadata": {},
   "outputs": [
    {
     "data": {
      "text/plain": [
       "[2, 4]"
      ]
     },
     "execution_count": 55,
     "metadata": {},
     "output_type": "execute_result"
    }
   ],
   "source": []
  },
  {
   "cell_type": "code",
   "execution_count": null,
   "id": "04dd8452-f942-4702-96fe-6b351d3970df",
   "metadata": {},
   "outputs": [],
   "source": []
  },
  {
   "cell_type": "code",
   "execution_count": null,
   "id": "40b9bae5-d8aa-4ebc-9a7e-945b025f2c1e",
   "metadata": {},
   "outputs": [],
   "source": []
  }
 ],
 "metadata": {
  "kernelspec": {
   "display_name": "Python 3 (ipykernel)",
   "language": "python",
   "name": "python3"
  },
  "language_info": {
   "codemirror_mode": {
    "name": "ipython",
    "version": 3
   },
   "file_extension": ".py",
   "mimetype": "text/x-python",
   "name": "python",
   "nbconvert_exporter": "python",
   "pygments_lexer": "ipython3",
   "version": "3.11.5"
  }
 },
 "nbformat": 4,
 "nbformat_minor": 5
}
